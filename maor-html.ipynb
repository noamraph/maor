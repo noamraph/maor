{
 "cells": [
  {
   "cell_type": "code",
   "execution_count": 99,
   "id": "f5ffa729-abac-4578-8353-4465e2ee21fe",
   "metadata": {},
   "outputs": [],
   "source": [
    "import json\n",
    "import os\n",
    "from glob import glob\n",
    "from PIL import Image\n",
    "import re\n",
    "import requests\n",
    "from tqdm import *\n",
    "from datetime import datetime\n",
    "import dateutil\n",
    "import pytz"
   ]
  },
  {
   "cell_type": "code",
   "execution_count": 106,
   "id": "39830d03-7070-4034-955f-cb4cef775d03",
   "metadata": {},
   "outputs": [],
   "source": [
    "API_KEY = 'xxx'\n",
    "API_KEY_SECRET = 'xxx'\n",
    "BEARER_TOKEN = 'xxx'"
   ]
  },
  {
   "cell_type": "code",
   "execution_count": 63,
   "id": "6f1a9753-107a-4123-a5e4-abceb0bc7421",
   "metadata": {},
   "outputs": [],
   "source": [
    "headers = {'Authorization': f'Bearer {BEARER_TOKEN}'}"
   ]
  },
  {
   "cell_type": "code",
   "execution_count": 66,
   "id": "4ecc16d7-3d8b-42a6-9d89-8849370b5671",
   "metadata": {},
   "outputs": [
    {
     "data": {
      "text/plain": [
       "{'data': {'id': '4004052706',\n",
       "  'name': 'maor eichler',\n",
       "  'username': 'EichlerMaor'}}"
      ]
     },
     "execution_count": 66,
     "metadata": {},
     "output_type": "execute_result"
    }
   ],
   "source": [
    "requests.get('https://api.twitter.com/2/users/by/username/EichlerMaor', headers=headers).json()"
   ]
  },
  {
   "cell_type": "code",
   "execution_count": 33,
   "id": "b3228bf8-cbc4-4a76-84b2-68b60fd51666",
   "metadata": {},
   "outputs": [],
   "source": [
    "records = json.load(open('/home/noam/Downloads/maor.json'))\n",
    "records.sort(key=lambda d: d['created_at'])"
   ]
  },
  {
   "cell_type": "code",
   "execution_count": 34,
   "id": "c230b1d4-94ba-424a-80ee-cf3bd4869f50",
   "metadata": {},
   "outputs": [],
   "source": [
    "# mogrify -path ../small-screenshots/ -resize '50%' -define png:compression-filter=5 -define png:compression-level=9 -define png:compression-strategy=1 -define png:exclude-chunk=all *.png"
   ]
  },
  {
   "cell_type": "code",
   "execution_count": 55,
   "id": "c34c8a0b-254c-4769-b19a-b0c6df89cdbd",
   "metadata": {},
   "outputs": [],
   "source": [
    "img_fns = {int(os.path.basename(fn)[:-4]): fn for fn in glob('/home/noam/Downloads/maor/screenshots/*.png')}"
   ]
  },
  {
   "cell_type": "code",
   "execution_count": 57,
   "id": "47f06e5b-a97f-4eeb-b1ae-2f2b65e6a544",
   "metadata": {},
   "outputs": [],
   "source": [
    "with open('/home/noam/Downloads/maor/tweets.html', 'w') as f:\n",
    "    f.write('<!DOCTYPE html>')\n",
    "    f.write('<html>\\n')\n",
    "    f.write('<head><meta charset=\"utf-8\"/></head>')\n",
    "    f.write('<body>\\n')\n",
    "    for d in records:\n",
    "        tid = int(d['id'])\n",
    "        assert tid in img_fns\n",
    "        if tid in img_fns:\n",
    "            fn = img_fns[tid]\n",
    "            img = Image.open(fn)\n",
    "            width, height = img.size\n",
    "            f.write(f'<img loading=\"lazy\" src=\"screenshots/{tid}.png\" width=\"{width}\" height=\"{height}\">\\n<br>\\n')\n",
    "            f.write(f'<a href=\"https://twitter.com/EichlerMaor/status/{tid}\">link</a>\\n<br>\\n')\n",
    "            f.write(d['text'])\n",
    "            f.write('<br><br><br>\\n\\n\\n')"
   ]
  },
  {
   "cell_type": "code",
   "execution_count": 43,
   "id": "2bc7f001-516a-4952-80b6-079855c9e3f4",
   "metadata": {},
   "outputs": [
    {
     "data": {
      "text/plain": [
       "3161"
      ]
     },
     "execution_count": 43,
     "metadata": {},
     "output_type": "execute_result"
    }
   ],
   "source": [
    "len(records)"
   ]
  },
  {
   "cell_type": "code",
   "execution_count": 58,
   "id": "89bae765-deb4-471c-8f71-d18bd75b3132",
   "metadata": {},
   "outputs": [],
   "source": [
    "all_tweets_txt = open('/home/noam/Downloads/maor/EichlerMaor.txt').read()"
   ]
  },
  {
   "cell_type": "code",
   "execution_count": 61,
   "id": "d1796704-6729-40b8-b868-6c45e0ccca89",
   "metadata": {},
   "outputs": [],
   "source": [
    "all_ids = re.findall(r'EichlerMaor/status/(\\d+)', all_tweets_txt)"
   ]
  },
  {
   "cell_type": "code",
   "execution_count": 77,
   "id": "e6744fef-bd1d-4f68-a169-dd3ca7d4fd18",
   "metadata": {},
   "outputs": [
    {
     "data": {
      "text/plain": [
       "{'data': [{'text': '@Ovadyah @RealJStreets @FleurHassanN @DanielSeidemann It’s not the holy place. It’s the parking lot for the holy place. Where transportation vehicles are normally found.',\n",
       "   'id': '1502022296034291719',\n",
       "   'created_at': '2022-03-10T20:43:16.000Z',\n",
       "   'referenced_tweets': [{'type': 'replied_to', 'id': '1502020716547526662'}],\n",
       "   'author_id': '4004052706'},\n",
       "  {'text': '@sapienist @FleurHassanN @DanielSeidemann It is in Jerusalem. The questioner is a Jerusalemite. It is hardly unreasonable for her to suspect that he is referring to her and everyone line her.',\n",
       "   'id': '1502021514408964105',\n",
       "   'created_at': '2022-03-10T20:40:09.000Z',\n",
       "   'referenced_tweets': [{'type': 'replied_to', 'id': '1502018779416465419'}],\n",
       "   'author_id': '4004052706'},\n",
       "  {'text': '@GeraldNGOM @Haaretz @levy_haaretz The shift to English destroyed it',\n",
       "   'id': '1501953831864832003',\n",
       "   'created_at': '2022-03-10T16:11:13.000Z',\n",
       "   'referenced_tweets': [{'type': 'replied_to', 'id': '1501816283997814785'}],\n",
       "   'author_id': '4004052706'}],\n",
       " 'includes': {'users': [{'id': '4004052706',\n",
       "    'name': 'maor eichler',\n",
       "    'username': 'EichlerMaor'},\n",
       "   {'id': '33922393', 'name': 'Ovadyah', 'username': 'Ovadyah'},\n",
       "   {'id': '81714813', 'name': 'Sonia F. Khan', 'username': 'sapienist'},\n",
       "   {'id': '117754884',\n",
       "    'name': 'Prof Gerald M Steinberg',\n",
       "    'username': 'GeraldNGOM'}],\n",
       "  'tweets': [{'text': \"@RealJStreets @FleurHassanN @DanielSeidemann His point is correct, without the political commentary. A train has no business there. It's a holy place, not a theme park.\",\n",
       "    'id': '1502020716547526662',\n",
       "    'created_at': '2022-03-10T20:36:59.000Z',\n",
       "    'referenced_tweets': [{'type': 'replied_to', 'id': '1502019424555081736'}],\n",
       "    'author_id': '33922393'},\n",
       "   {'text': '@FleurHassanN @DanielSeidemann Are you all in this picture? \\nNo?\\nThen what do you mean by this question?\\n🤷🏽\\u200d♀️',\n",
       "    'id': '1502018779416465419',\n",
       "    'created_at': '2022-03-10T20:29:17.000Z',\n",
       "    'referenced_tweets': [{'type': 'replied_to', 'id': '1502014634525614086'}],\n",
       "    'author_id': '81714813'},\n",
       "   {'text': \"25+ years ago, @haaretz was known as a serious newspaper, with world-class journalists like Zeev Schiff. Now, it is known for manipulative pop-psychology, exemplified by @levy_haaretz. If you've read one, you've read them all. Latest version: https://t.co/zbSCsPzATw\",\n",
       "    'id': '1501816283997814785',\n",
       "    'created_at': '2022-03-10T07:04:39.000Z',\n",
       "    'author_id': '117754884'}]}}"
      ]
     },
     "execution_count": 77,
     "metadata": {},
     "output_type": "execute_result"
    }
   ],
   "source": [
    "requests.get('https://api.twitter.com/2/tweets', headers=headers, params={\n",
    "    'ids': ','.join(all_ids[:3]),\n",
    "    'expansions': 'referenced_tweets.id,referenced_tweets.id.author_id',\n",
    "    'tweet.fields': 'created_at,author_id',\n",
    "    'user.fields': 'username',\n",
    "}).json()"
   ]
  },
  {
   "cell_type": "code",
   "execution_count": 80,
   "id": "1d3ff81d-5921-4024-abc8-b96dea0b46e6",
   "metadata": {},
   "outputs": [
    {
     "name": "stderr",
     "output_type": "stream",
     "text": [
      "100%|█████████████████████████████████████████████████████████████████████████████████████████████████████████████████| 121/121 [02:59<00:00,  1.48s/it]\n"
     ]
    }
   ],
   "source": [
    "responses = []\n",
    "for i in tqdm(range(0, len(all_ids), 100)):\n",
    "    cur_ids = all_ids[i:i+100]\n",
    "    r = requests.get('https://api.twitter.com/2/tweets', headers=headers, params={\n",
    "        'ids': ','.join(cur_ids),\n",
    "        'expansions': 'referenced_tweets.id,referenced_tweets.id.author_id',\n",
    "        'tweet.fields': 'created_at,author_id',\n",
    "        'user.fields': 'username',\n",
    "    })\n",
    "    r.raise_for_status()\n",
    "    responses.append(r)"
   ]
  },
  {
   "cell_type": "code",
   "execution_count": 82,
   "id": "387be08e-67ba-4111-a758-d2b51f048e86",
   "metadata": {},
   "outputs": [],
   "source": [
    "tweets = {}\n",
    "users = {}\n",
    "for r in responses:\n",
    "    r = r.json()\n",
    "    for tweet in r['data']:\n",
    "        tweets[tweet['id']] = tweet\n",
    "    for tweet in r['includes']['tweets']:\n",
    "        tweets[tweet['id']] = tweet\n",
    "    for user in r['includes']['users']:\n",
    "        users[user['id']] = user"
   ]
  },
  {
   "cell_type": "code",
   "execution_count": 105,
   "id": "d7e3a4ab-c42c-441f-bfec-73ea6f39c817",
   "metadata": {},
   "outputs": [],
   "source": [
    "os.chdir('/home/noam/Downloads/maor')\n",
    "tz = pytz.timezone('Asia/Jerusalem')\n",
    "with open('tweets.html', 'w') as f:\n",
    "    f.write('<!DOCTYPE html>')\n",
    "    f.write('<html lang=\"en\">\\n')\n",
    "    f.write('<head>\\n')\n",
    "    f.write(\"<title>Maor Eichler's Tweets</title>\\n\")\n",
    "    f.write('<meta charset=\"utf-8\"/>\\n')\n",
    "    f.write('<link rel=\"stylesheet\" href=\"https://cdn.jsdelivr.net/npm/bootstrap@3.4.1/dist/css/bootstrap.min.css\" integrity=\"sha384-HSMxcRTRxnN+Bdg0JdbxYKrThecOKuH5zCYotlSAcp1+c8xmyTe9GYg1l9a69psu\" crossorigin=\"anonymous\">')\n",
    "    f.write('</head>\\n')\n",
    "    f.write('<body style=\"width: 550px; padding: 10px;\">\\n')\n",
    "    for tid in all_ids:\n",
    "        img_fn = f'shots/{tid}.webp'\n",
    "        img = Image.open(img_fn)\n",
    "        width, height = img.size\n",
    "        url = f\"https://twitter.com/EichlerMaor/status/{tid}\"\n",
    "        tweet = tweets[tid]\n",
    "        created_at = dateutil.parser.parse(tweet['created_at']).astimezone(tz).strftime('%d/%m/%Y %H:%M')\n",
    "        f.write(f'<img loading=\"lazy\" src=\"{img_fn}\" width=\"{width}\" height=\"{height}\">\\n<br>\\n')\n",
    "        f.write(f'<a href=\"{url}\">{url}</a>\\n<br>\\n')\n",
    "        f.write(f'{created_at}<br>\\n')\n",
    "        f.write(tweet['text'])\n",
    "        f.write('<br><br><br>\\n\\n\\n')\n",
    "    f.write('</body>\\n')\n",
    "    f.write('</html>\\n')"
   ]
  },
  {
   "cell_type": "code",
   "execution_count": 84,
   "id": "27d2a4e0-a42e-466b-843d-136ccde1be8b",
   "metadata": {},
   "outputs": [
    {
     "data": {
      "text/plain": [
       "(550, 350)"
      ]
     },
     "execution_count": 84,
     "metadata": {},
     "output_type": "execute_result"
    }
   ],
   "source": [
    "Image.open('/home/noam/Downloads/maor/shots-webp/1502022296034291719.webp').size"
   ]
  },
  {
   "cell_type": "code",
   "execution_count": 91,
   "id": "e9468db0-c306-4f45-b2fa-dc55b28b08ca",
   "metadata": {},
   "outputs": [
    {
     "data": {
      "text/plain": [
       "{'text': '@Ovadyah @RealJStreets @FleurHassanN @DanielSeidemann It’s not the holy place. It’s the parking lot for the holy place. Where transportation vehicles are normally found.',\n",
       " 'id': '1502022296034291719',\n",
       " 'created_at': '2022-03-10T20:43:16.000Z',\n",
       " 'referenced_tweets': [{'type': 'replied_to', 'id': '1502020716547526662'}],\n",
       " 'author_id': '4004052706'}"
      ]
     },
     "execution_count": 91,
     "metadata": {},
     "output_type": "execute_result"
    }
   ],
   "source": [
    "tweets['1502022296034291719']"
   ]
  },
  {
   "cell_type": "code",
   "execution_count": 103,
   "id": "9bd1735a-2953-4ba0-8563-1b15b5de2e83",
   "metadata": {},
   "outputs": [
    {
     "data": {
      "text/plain": [
       "'10/03/2022 22:43'"
      ]
     },
     "execution_count": 103,
     "metadata": {},
     "output_type": "execute_result"
    }
   ],
   "source": [
    "dateutil.parser.parse('2022-03-10T20:43:16.000Z').astimezone(pytz.timezone('Asia/Jerusalem')).strftime('%d/%m/%Y %H:%M')"
   ]
  },
  {
   "cell_type": "code",
   "execution_count": 100,
   "id": "640129ae-f573-45e5-8843-d8b82b26d081",
   "metadata": {},
   "outputs": [
    {
     "data": {
      "text/plain": [
       "<DstTzInfo 'Asia/Jerusalem' LMT+2:21:00 STD>"
      ]
     },
     "execution_count": 100,
     "metadata": {},
     "output_type": "execute_result"
    }
   ],
   "source": [
    "pytz.timezone('Asia/Jerusalem')"
   ]
  },
  {
   "cell_type": "code",
   "execution_count": null,
   "id": "ef78aa90-d2d0-4399-a595-103ba708de1b",
   "metadata": {},
   "outputs": [],
   "source": []
  }
 ],
 "metadata": {
  "kernelspec": {
   "display_name": "Python 3 (ipykernel)",
   "language": "python",
   "name": "python3"
  },
  "language_info": {
   "codemirror_mode": {
    "name": "ipython",
    "version": 3
   },
   "file_extension": ".py",
   "mimetype": "text/x-python",
   "name": "python",
   "nbconvert_exporter": "python",
   "pygments_lexer": "ipython3",
   "version": "3.8.10"
  }
 },
 "nbformat": 4,
 "nbformat_minor": 5
}
