{
 "cells": [
  {
   "cell_type": "code",
   "execution_count": 1,
   "id": "37613d06-a4a1-4176-8fab-735df3e6eca2",
   "metadata": {},
   "outputs": [],
   "source": [
    "import requests\n",
    "import pickle\n",
    "import json\n",
    "import pyppeteer\n",
    "from tqdm import *\n",
    "import re"
   ]
  },
  {
   "cell_type": "code",
   "execution_count": 10,
   "id": "9d8f936a-ae2b-4ad5-8a95-e352446d991a",
   "metadata": {},
   "outputs": [],
   "source": [
    "API_KEY = 'xxx'\n",
    "API_KEY_SECRET = 'xxx'\n",
    "BEARER_TOKEN = 'xxx'"
   ]
  },
  {
   "cell_type": "code",
   "execution_count": 3,
   "id": "226f9efd-1691-436a-8ebd-50b4365ba07e",
   "metadata": {},
   "outputs": [],
   "source": [
    "headers = {'Authorization': f'Bearer {BEARER_TOKEN}'}"
   ]
  },
  {
   "cell_type": "code",
   "execution_count": 4,
   "id": "5f4ad14f-f8ca-4251-9c14-749b4a86e627",
   "metadata": {},
   "outputs": [
    {
     "data": {
      "text/plain": [
       "{'data': {'id': '4004052706',\n",
       "  'name': 'maor eichler',\n",
       "  'username': 'EichlerMaor'}}"
      ]
     },
     "execution_count": 4,
     "metadata": {},
     "output_type": "execute_result"
    }
   ],
   "source": [
    "requests.get('https://api.twitter.com/2/users/by/username/EichlerMaor', headers=headers).json()"
   ]
  },
  {
   "cell_type": "code",
   "execution_count": 12,
   "id": "d7d007b7-6414-4a0c-989f-74194af93606",
   "metadata": {},
   "outputs": [
    {
     "name": "stdout",
     "output_type": "stream",
     "text": [
      "0\n",
      "100\n",
      "200\n",
      "300\n",
      "400\n",
      "500\n",
      "600\n",
      "700\n",
      "800\n",
      "900\n",
      "1000\n",
      "1100\n",
      "1200\n",
      "1300\n",
      "1400\n",
      "1500\n",
      "1600\n",
      "1700\n",
      "1800\n",
      "1900\n",
      "2000\n",
      "2100\n",
      "2200\n",
      "2300\n",
      "2400\n",
      "2500\n",
      "2600\n",
      "2700\n",
      "2800\n",
      "2900\n",
      "3000\n",
      "3100\n"
     ]
    }
   ],
   "source": [
    "results = []\n",
    "records = []\n",
    "while True:\n",
    "    print(len(records))\n",
    "    pagination_token = results[-1]['meta']['next_token'] if results else None\n",
    "    # https://developer.twitter.com/en/docs/twitter-api/tweets/timelines/api-reference/get-users-id-tweets\n",
    "    r = requests.get('https://api.twitter.com/2/users/4004052706/tweets', params={\n",
    "        'tweet.fields': 'created_at',\n",
    "        'exclude': 'retweets',\n",
    "        'max_results': 100,\n",
    "        'pagination_token': pagination_token,\n",
    "    }, headers=headers)\n",
    "    r.raise_for_status()\n",
    "    d = r.json()\n",
    "    results.append(d)\n",
    "    records.extend(d['data'])\n",
    "    if 'next_token' not in d['meta']:\n",
    "        break\n",
    "    "
   ]
  },
  {
   "cell_type": "code",
   "execution_count": 14,
   "id": "4ad9daa3-f23c-48c2-87bd-70f8050838e7",
   "metadata": {},
   "outputs": [
    {
     "data": {
      "text/plain": [
       "{'created_at': '2021-06-13T16:59:48.000Z',\n",
       " 'id': '1404121335564062722',\n",
       " 'text': '@noahroth Ah, but can you prove it?'}"
      ]
     },
     "execution_count": 14,
     "metadata": {},
     "output_type": "execute_result"
    }
   ],
   "source": [
    "records[-2]"
   ]
  },
  {
   "cell_type": "code",
   "execution_count": 18,
   "id": "e8d2a333-a6c8-40db-bd1d-7e941df153c5",
   "metadata": {},
   "outputs": [],
   "source": [
    "with open('/home/noam/Downloads/maor.json', 'w') as f:\n",
    "    json.dump(records, f, indent=2)"
   ]
  },
  {
   "cell_type": "code",
   "execution_count": 33,
   "id": "0adc1702-9a3f-4828-871d-7062bec14f94",
   "metadata": {},
   "outputs": [],
   "source": [
    "# Based on https://github.com/ozgrozer/tweet-image/blob/master/src/backend/createScreenshot.js\n",
    "tweet_id = 1404121335564062722\n",
    "async def create_screenshot(fn, page, tweet_id):\n",
    "    width = 1000\n",
    "    padding = 25\n",
    "\n",
    "    await page.goto(\n",
    "        f'https://platform.twitter.com/embed/index.html?dnt=true&embedId=twitter-widget-0&'\n",
    "        f'frame=false&hideCard=false&hideThread=false&id={tweet_id}&lang=en&theme=light&'\n",
    "        f'widgetsVersion=ed20a2b%3A1601588405575',\n",
    "        waitUntil='networkidle0')\n",
    "\n",
    "    embedDefaultWidth = 550\n",
    "    percent = width / embedDefaultWidth\n",
    "    pageWidth = int(round(embedDefaultWidth * percent))\n",
    "    pageHeight = 100\n",
    "    await page.setViewport(dict(width=pageWidth, height=pageHeight))\n",
    "\n",
    "    await page.evaluate(f\"\"\"\n",
    "    const style = document.createElement('style')\n",
    "    style.innerHTML = \"* {{ font-family: -apple-system, BlinkMacSystemFont, Ubuntu, 'Segoe UI', Roboto, Helvetica, Arial, sans-serif, 'Apple Color Emoji', 'Segoe UI Emoji', 'Segoe UI Symbol' !important; }}\"\n",
    "    document.getElementsByTagName('head')[0].appendChild(style)\n",
    "\n",
    "    const body = document.querySelector('body')\n",
    "    body.style.padding = `{padding}px`\n",
    "    //body.style.backgroundColor = theme === 'dark' ? '#000' : '#fff'\n",
    "    body.style.zoom = `{100 * percent}%`\n",
    "    const articleWrapper = document.querySelector('#app > div')\n",
    "    articleWrapper.style.border = 'none'\n",
    "    \"\"\")\n",
    "    img = await page.screenshot(path=fn, fullPage=True)"
   ]
  },
  {
   "cell_type": "code",
   "execution_count": 31,
   "id": "f841bf22-701e-487d-bd95-61b1ab409dec",
   "metadata": {},
   "outputs": [],
   "source": [
    "browser = await pyppeteer.launch()\n",
    "page = await browser.newPage()"
   ]
  },
  {
   "cell_type": "code",
   "execution_count": 37,
   "id": "021c56f2-2de4-4667-aecf-96a45d266431",
   "metadata": {},
   "outputs": [
    {
     "name": "stderr",
     "output_type": "stream",
     "text": [
      "100%|█████████████████████████████████████████████████████████████████████████████████████████████████████████████| 3161/3161 [2:04:25<00:00,  2.36s/it]\n"
     ]
    }
   ],
   "source": [
    "errors = []\n",
    "for record in tqdm(records):\n",
    "    tweet_id = record['id']\n",
    "    try:\n",
    "        await create_screenshot(f'/home/noam/Downloads/maor/screenshots/{tweet_id}.png', page, tweet_id)\n",
    "    except Exception as e:\n",
    "        print(e)\n",
    "        errors.append(tweet_id)"
   ]
  },
  {
   "cell_type": "code",
   "execution_count": 40,
   "id": "1e181e90-d8a5-472d-9677-d0008699851c",
   "metadata": {},
   "outputs": [],
   "source": [
    "tweet_id = 1404121335564062722\n",
    "await page.goto(\n",
    "    f'https://platform.twitter.com/embed/index.html?dnt=true&embedId=twitter-widget-0&'\n",
    "    f'frame=false&hideCard=false&hideThread=false&id={tweet_id}&lang=en&theme=light&'\n",
    "    f'widgetsVersion=ed20a2b%3A1601588405575',\n",
    "    waitUntil='networkidle0')\n",
    "await page.setViewport(dict(width=550, height=100))\n",
    "img = await page.screenshot(path='/tmp/img.png', fullPage=True)"
   ]
  },
  {
   "cell_type": "code",
   "execution_count": 5,
   "id": "2db5222c-cfd3-4851-86d2-81127419ede3",
   "metadata": {},
   "outputs": [],
   "source": [
    "all_tweets_txt = open('/home/noam/Downloads/maor/EichlerMaor.txt').read()"
   ]
  },
  {
   "cell_type": "code",
   "execution_count": 6,
   "id": "241194ea-cf87-4b7b-8687-3a22a8b66cfb",
   "metadata": {},
   "outputs": [],
   "source": [
    "all_ids = re.findall(r'EichlerMaor/status/(\\d+)', all_tweets_txt)"
   ]
  },
  {
   "cell_type": "code",
   "execution_count": 7,
   "id": "0e904bf2-5c2d-4365-b9c0-6d5b20c93797",
   "metadata": {},
   "outputs": [
    {
     "data": {
      "text/plain": [
       "12027"
      ]
     },
     "execution_count": 7,
     "metadata": {},
     "output_type": "execute_result"
    }
   ],
   "source": [
    "len(all_ids)"
   ]
  },
  {
   "cell_type": "code",
   "execution_count": 8,
   "id": "18064145-ef28-47cf-aed1-440bf2eb19fc",
   "metadata": {},
   "outputs": [],
   "source": [
    "async def create_screenshot2(fn, page, tweet_id):\n",
    "    await page.goto(\n",
    "        f'https://platform.twitter.com/embed/index.html?dnt=true&embedId=twitter-widget-0&'\n",
    "        f'frame=false&hideCard=false&hideThread=false&id={tweet_id}&lang=en&theme=light&'\n",
    "        f'widgetsVersion=ed20a2b%3A1601588405575',\n",
    "        waitUntil='networkidle0')\n",
    "    await page.setViewport(dict(width=550, height=100))\n",
    "    img = await page.screenshot(path=fn, fullPage=True)"
   ]
  },
  {
   "cell_type": "code",
   "execution_count": 9,
   "id": "c5c69517-ec84-45fe-87a8-7e83c68e8618",
   "metadata": {},
   "outputs": [
    {
     "name": "stderr",
     "output_type": "stream",
     "text": [
      "100%|███████████████████████████████████████████████████████████████████████████████████████████████████████████| 12027/12027 [7:18:54<00:00,  2.19s/it]\n"
     ]
    }
   ],
   "source": [
    "browser = await pyppeteer.launch()\n",
    "page = await browser.newPage()\n",
    "errors = []\n",
    "for tweet_id in tqdm(all_ids):\n",
    "    try:\n",
    "        await create_screenshot2(f'/home/noam/Downloads/maor/shots/{tweet_id}.png', page, tweet_id)\n",
    "    except Exception as e:\n",
    "        print(e)\n",
    "        errors.append(tweet_id)"
   ]
  },
  {
   "cell_type": "code",
   "execution_count": null,
   "id": "fee76deb-b659-4303-a70a-2e043f89589a",
   "metadata": {},
   "outputs": [],
   "source": []
  }
 ],
 "metadata": {
  "kernelspec": {
   "display_name": "Python 3 (ipykernel)",
   "language": "python",
   "name": "python3"
  },
  "language_info": {
   "codemirror_mode": {
    "name": "ipython",
    "version": 3
   },
   "file_extension": ".py",
   "mimetype": "text/x-python",
   "name": "python",
   "nbconvert_exporter": "python",
   "pygments_lexer": "ipython3",
   "version": "3.8.10"
  }
 },
 "nbformat": 4,
 "nbformat_minor": 5
}
